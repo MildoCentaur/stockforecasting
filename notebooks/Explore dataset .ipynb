{
 "cells": [
  {
   "cell_type": "markdown",
   "metadata": {},
   "source": [
    "# The project architecture was created with cookiecutter"
   ]
  },
  {
   "cell_type": "code",
   "execution_count": 1,
   "metadata": {},
   "outputs": [],
   "source": [
    "#cookiecutter https://github.com/drivendata/cookiecutter-data-science.git"
   ]
  },
  {
   "cell_type": "markdown",
   "metadata": {},
   "source": [
    "# Download the dataset"
   ]
  },
  {
   "cell_type": "code",
   "execution_count": 2,
   "metadata": {},
   "outputs": [
    {
     "name": "stdout",
     "output_type": "stream",
     "text": [
      "Warning: Your Kaggle API key is readable by other users on this system! To fix this, you can run 'chmod 600 /Users/mildo/.kaggle/kaggle.json'\n",
      "Downloading price-volume-data-for-all-us-stocks-etfs.zip to /Users/mildo/MyDocuments/datascience/stockforecasting/notebooks\n",
      "  7%|██▊                                    | 35.0M/492M [00:10<02:19, 3.43MB/s]^C\n",
      "  7%|██▊                                    | 35.0M/492M [00:10<02:20, 3.40MB/s]\n",
      "User cancelled operation\n"
     ]
    }
   ],
   "source": [
    "!kaggle datasets download -d borismarjanovic/price-volume-data-for-all-us-stocks-etfs"
   ]
  },
  {
   "cell_type": "code",
   "execution_count": 15,
   "metadata": {},
   "outputs": [],
   "source": [
    "!cd ../data/raw"
   ]
  },
  {
   "cell_type": "code",
   "execution_count": 19,
   "metadata": {},
   "outputs": [
    {
     "name": "stdout",
     "output_type": "stream",
     "text": [
      "/Users/mildo/MyDocuments/datascience/stockforecasting/notebooks\n",
      "Warning: Your Kaggle API key is readable by other users on this system! To fix this, you can run 'chmod 600 /Users/mildo/.kaggle/kaggle.json'\n",
      "Downloading price-volume-data-for-all-us-stocks-etfs.zip to ../data/raw\n",
      "100%|████████████████████████████████████████| 492M/492M [02:36<00:00, 3.28MB/s]\n",
      "100%|████████████████████████████████████████| 492M/492M [02:36<00:00, 3.29MB/s]\n"
     ]
    }
   ],
   "source": [
    "!pwd\n",
    "!kaggle datasets download -d borismarjanovic/price-volume-data-for-all-us-stocks-etfs -p ../data/raw"
   ]
  },
  {
   "cell_type": "code",
   "execution_count": 75,
   "metadata": {},
   "outputs": [
    {
     "name": "stdout",
     "output_type": "stream",
     "text": [
      "\u001b[34mETFs\u001b[m\u001b[m\r\n",
      "\u001b[34mStocks\u001b[m\u001b[m\r\n",
      "price-volume-data-for-all-us-stocks-etfs.zip\r\n"
     ]
    }
   ],
   "source": [
    "!ls ../data/raw"
   ]
  },
  {
   "cell_type": "code",
   "execution_count": 76,
   "metadata": {},
   "outputs": [],
   "source": [
    "#!unzip ../data/raw/price-volume-data-for-all-us-stocks-etfs.zip "
   ]
  },
  {
   "cell_type": "code",
   "execution_count": 77,
   "metadata": {},
   "outputs": [],
   "source": [
    "%matplotlib inline"
   ]
  },
  {
   "cell_type": "code",
   "execution_count": 94,
   "metadata": {},
   "outputs": [
    {
     "name": "stdout",
     "output_type": "stream",
     "text": [
      "../data/raw/Stocks/aapl.us.txt\n",
      "Date,Open,High,Low,Close,Volume,OpenInt\n",
      "\n",
      "1984-09-07,0.42388,0.42902,0.41874,0.42388,23220030,0\n",
      "\n"
     ]
    }
   ],
   "source": [
    "import os\n",
    "import numpy as np\n",
    "import pandas as pd\n",
    "import matplotlib.pyplot as plt\n",
    "\n",
    "# set the file paths\n",
    "raw_data_path = os.path.join(os.path.pardir,'data','raw','Stocks')\n",
    "train_data_path = os.path.join(raw_data_path, 'aapl.us.txt')\n",
    "test_data_path = os.path.join(raw_data_path, 'aapl.us.txt')\n",
    "print (train_data_path)\n",
    "file=open(train_data_path,\"r\")\n",
    "print(file.readline())\n",
    "print(file.readline())\n",
    "#read data with default parameters using panda df\n",
    "train_df = pd.read_csv(train_data_path,index_col=\"Date\")\n",
    "test_df = pd.read_csv(test_data_path,index_col=\"Date\")\n"
   ]
  },
  {
   "cell_type": "code",
   "execution_count": 79,
   "metadata": {},
   "outputs": [],
   "source": [
    "def load_dataset (product,underlyer = 'aapl.us.txt', index_column = 'Date'):\n",
    "    raw_data_path = os.path.join(os.path.pardir,'data','raw',product)\n",
    "    data_path = os.path.join(raw_data_path, underlyer)\n",
    "    print('Opening file ',data_path)\n",
    "    return pd.read_csv(data_path,index_col=index_column)\n",
    "\n",
    "\n",
    "def generate_train_dataset(dataset, cut_date = '2016-01-01'):\n",
    "    return dataset[dataset.index<cut_date]\n",
    "\n",
    "\n",
    "def generate_test_dataset(dataset, cut_date = '2016-01-01'):\n",
    "    return dataset[dataset.index>cut_date]\n",
    "\n",
    "\n",
    "def generate_dataset(product = 'Stocks', underlyer = 'aapl.us.txt', cut_date = '2016-01-01', index_column = 'Date'):\n",
    "    dataset =  load_dataset(product, underlyer, index_column)\n",
    "    train_df = generate_train_dataset(dataset, cut_date)\n",
    "    test_df = generate_test_dataset(dataset, cut_date)\n",
    "    return (dataset, train_df, test_df)\n",
    "\n"
   ]
  },
  {
   "cell_type": "code",
   "execution_count": 80,
   "metadata": {},
   "outputs": [
    {
     "name": "stdout",
     "output_type": "stream",
     "text": [
      "Opening file  ../data/raw/Stocks/aapl.us.txt\n"
     ]
    }
   ],
   "source": [
    "dataset, train_df, test_df = generate_dataset('Stocks','aapl.us.txt','2016-01-01')\n"
   ]
  },
  {
   "cell_type": "code",
   "execution_count": 81,
   "metadata": {},
   "outputs": [
    {
     "data": {
      "image/png": "[encoded data removed]",
      "text/plain": [
       "<Figure size 432x288 with 1 Axes>"
      ]
     },
     "metadata": {
      "needs_background": "light"
     },
     "output_type": "display_data"
    }
   ],
   "source": [
    "\n",
    "dataset['Close'].plot()\n",
    "dataset['Open'].plot()\n",
    "plt.title('Apple')\n",
    "plt.show()"
   ]
  },
  {
   "cell_type": "code",
   "execution_count": null,
   "metadata": {},
   "outputs": [],
   "source": [
    "# multiple line plot\n",
    "print (dataset.index.shape, dataset.Volume.shape)\n",
    "plt.plot( 'Volume', data=dataset, marker='o', markerfacecolor='blue', markersize=12, color='skyblue', linewidth=4)\n",
    "plt.plot(  'Open', data=dataset, marker='', color='olive', linewidth=2)\n",
    "#plt.plot(  'Close', data=dataset, marker='', color='olive', linewidth=2, linestyle='dashed', label=\"toto\")\n",
    "plt.legend()\n"
   ]
  },
  {
   "cell_type": "code",
   "execution_count": 98,
   "metadata": {},
   "outputs": [
    {
     "ename": "IndentationError",
     "evalue": "unindent does not match any outer indentation level (<tokenize>, line 26)",
     "output_type": "error",
     "traceback": [
      "\u001b[0;36m  File \u001b[0;32m\"<tokenize>\"\u001b[0;36m, line \u001b[0;32m26\u001b[0m\n\u001b[0;31m    print( 'Hole',num)\u001b[0m\n\u001b[0m    ^\u001b[0m\n\u001b[0;31mIndentationError\u001b[0m\u001b[0;31m:\u001b[0m unindent does not match any outer indentation level\n"
     ]
    }
   ],
   "source": [
    "# Initialize the figure\n",
    "plt.style.use('seaborn-darkgrid')\n",
    " \n",
    "# create a color palette\n",
    "palette = plt.get_cmap('Set1')\n",
    "\n",
    "num=0\n",
    "for column in test_df.drop(['High','Low','OpenInt'], axis=1):\n",
    "    num+=1\n",
    " \n",
    "    # Find the right spot on the plot\n",
    "    plt.subplot(3,3, num)\n",
    "    print( 'Hole',num)\n",
    "    # Plot the lineplot\n",
    "    plt.plot(test_df.index, test_df[column], marker='', color=palette(num), linewidth=1.9, alpha=0.9, label=column)\n",
    "    print( 'Hole',num)\n",
    "    # Same limits for everybody!\n",
    "    plt.xlim(0,10)\n",
    "    plt.ylim(-2,22)\n",
    "     print( 'Hole',num)\n",
    "    # Not ticks everywhere\n",
    "    if num in range(7) :\n",
    "        plt.tick_params(labelbottom='off')\n",
    "    if num not in [1,4,7] :\n",
    "        plt.tick_params(labelleft='off')\n",
    "     print( 'Hole',num)\n",
    "    # Add title\n",
    "    plt.title(column, loc='left', fontsize=12, fontweight=0, color=palette(num) )\n",
    " \n",
    "# general title\n",
    "plt.suptitle(\"How the 9 students improved\\nthese past few days?\", fontsize=13, fontweight=0, color='black', style='italic', y=1.02)"
   ]
  },
  {
   "cell_type": "code",
   "execution_count": null,
   "metadata": {},
   "outputs": [],
   "source": []
  },
  {
   "cell_type": "code",
   "execution_count": 95,
   "metadata": {},
   "outputs": [
    {
     "name": "stdout",
     "output_type": "stream",
     "text": [
      "Open\n",
      "Close\n",
      "Volume\n"
     ]
    }
   ],
   "source": [
    "for column in dataset.drop(['High','Low','OpenInt'], axis=1):\n",
    "    print(column)"
   ]
  },
  {
   "cell_type": "code",
   "execution_count": null,
   "metadata": {},
   "outputs": [],
   "source": []
  }
 ],
 "metadata": {
  "kernelspec": {
   "display_name": "Python 3",
   "language": "python",
   "name": "python3"
  },
  "language_info": {
   "codemirror_mode": {
    "name": "ipython",
    "version": 3
   },
   "file_extension": ".py",
   "mimetype": "text/x-python",
   "name": "python",
   "nbconvert_exporter": "python",
   "pygments_lexer": "ipython3",
   "version": "3.7.3"
  }
 },
 "nbformat": 4,
 "nbformat_minor": 2
}
