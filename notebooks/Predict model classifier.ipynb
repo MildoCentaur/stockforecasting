{
 "cells": [
  {
   "cell_type": "markdown",
   "metadata": {},
   "source": [
    "# Building Predictive models Classifier"
   ]
  },
  {
   "cell_type": "code",
   "execution_count": 1,
   "metadata": {},
   "outputs": [],
   "source": [
    "import pandas as pd\n",
    "import os\n",
    "import numpy as np\n",
    "\n",
    "def load_dataset(subfolder='', file='aapl.us.txt', data_type='raw', index_column=0):\n",
    "    data_path = os.path.join(os.path.pardir, 'data', data_type, subfolder, file)\n",
    "    print('Opening file ', data_path)\n",
    "    df = pd.read_csv(data_path, index_col=index_column)\n",
    "    print('%d missing values found' % df.isnull().sum().sum())\n",
    "    return df\n",
    "\n",
    "def generate_train_dataset(dataset, split_date='2016-01-01'):\n",
    "    dataset_aux = dataset[dataset.Date < split_date]\n",
    "    result_df = pd.DataFrame()\n",
    "    result_df['Label'] = dataset_aux.Label\n",
    "    result_df['Index'] = dataset_aux.index\n",
    "    dataset_aux = dataset_aux.drop(columns=['Tomorrow_Date', 'Tomorrow_Open','Label','Diff_Tomorrow_Open','Date','Yesterday_Date']) \n",
    "    return dataset_aux, result_df\n",
    "\n",
    "\n",
    "def generate_train_dataset_lowerbound(dataset, split_date='2016-01-01', lower_bound = '2000-01-01'):\n",
    "    dataset_aux = dataset[(dataset.Date < split_date) & (dataset.Date > lower_bound)]\n",
    "    result_df = pd.DataFrame()\n",
    "    result_df['Label'] = dataset_aux.Label\n",
    "    result_df['Index'] = dataset_aux.index\n",
    "    dataset_aux = dataset_aux.drop(columns=['Tomorrow_Date', 'Tomorrow_Open','Label','Diff_Tomorrow_Open','Date','Yesterday_Date']) \n",
    "    return dataset_aux, result_df\n",
    "\n",
    "\n",
    "def generate_test_dataset(dataset, split_date='2016-01-01'):\n",
    "    dataset_aux = dataset[dataset.Date > split_date]\n",
    "    result_df = pd.DataFrame()\n",
    "    result_df['Label'] = dataset_aux.Label\n",
    "    result_df['Index'] = dataset_aux.index\n",
    "    dataset_aux = dataset_aux.drop(columns=['Tomorrow_Date', 'Tomorrow_Open','Label','Diff_Tomorrow_Open','Date','Yesterday_Date']) \n",
    "    return dataset_aux, result_df\n"
   ]
  },
  {
   "cell_type": "markdown",
   "metadata": {},
   "source": [
    "# Prediction and metrics methods"
   ]
  },
  {
   "cell_type": "code",
   "execution_count": 2,
   "metadata": {},
   "outputs": [],
   "source": [
    "import pandas as pd\n",
    "import sklearn\n",
    "from sklearn.dummy import DummyClassifier\n",
    "from sklearn.metrics import accuracy_score, confusion_matrix, precision_score, recall_score\n",
    "from sklearn.utils.multiclass import unique_labels\n",
    "\n",
    "def create_predictions_dataset(test_df, model, X_test):\n",
    "    predictions = model.predict(X_test)\n",
    "    df_predicted = pd.DataFrame({ 'Label' : predictions, 'Index' : test_df.index} )\n",
    "    return df_predicted\n",
    "\n",
    "\n",
    "def compare_prediction_visual(df_predicted, df_real, model_name='Unknown model'):\n",
    "    fig, axs = plt.subplots(1, 2, figsize=(15, 6), sharey=True, sharex=True, facecolor='w', edgecolor='k', dpi=80)\n",
    "    title = model_name + ' ' +  'classification results'\n",
    "    df_predicted.plot(kind='scatter', x='Index',y='Label', ax=axs[0], title='Prediction results')\n",
    "    df_real.plot(kind='scatter', x='Index',y='Label', ax=axs[1] ,title='Real classification results')\n",
    "    visualization_path = os.path.join(os.path.pardir, 'reports', 'figures', 'classifier', model_name)\n",
    "    plt.savefig('{0}.png'.format(visualization_path))\n",
    "\n",
    "\n",
    "def get_model_metrics(model, y_test, X_test, model_name='Unknown model'):\n",
    "    result = model.score(X_test, y_test)\n",
    "    print ('Metrics for model: {}'.format(model_name))\n",
    "    print ('\\tScore: {1:.2f}'.format(model_name, result))\n",
    "    print ('\\tAccuracy: {0:.2f}'.format(accuracy_score(y_test, model.predict(X_test))))\n",
    "    import warnings\n",
    "    warnings.filterwarnings('ignore')\n",
    "    print ('\\tPrecision: {0:.2f}'.format(precision_score(y_test, model.predict(X_test))))\n",
    "    print ('\\tRecall: {0:.2f}'.format(recall_score(y_test, model.predict(X_test))))\n",
    "    print ('\\tPredicts {0:.2f}% time it the stock price goes up'.format(result*100, model_name))\n",
    "    cm = confusion_matrix(y_test, model.predict(X_test))\n",
    "    print( '\\tConfusion matrix: \\n\\t{0} \\n\\t{1}'.format(cm[0], cm[1]))"
   ]
  },
  {
   "cell_type": "code",
   "execution_count": 3,
   "metadata": {},
   "outputs": [
    {
     "data": {
      "text/plain": [
       "'0.21.3'"
      ]
     },
     "execution_count": 3,
     "metadata": {},
     "output_type": "execute_result"
    }
   ],
   "source": [
    "import pandas as pd\n",
    "import sklearn\n",
    "sklearn.__version__\n",
    "#from src.data.dataset_utils import load_dataset, write_dataset\n",
    "#from src.features.feature_data import prepare_feture_vector\n"
   ]
  },
  {
   "cell_type": "code",
   "execution_count": 4,
   "metadata": {},
   "outputs": [
    {
     "name": "stdout",
     "output_type": "stream",
     "text": [
      "Opening file  ../data/processed/dataset_feature_vector.csv\n",
      "0 missing values found\n"
     ]
    }
   ],
   "source": [
    "dataset = load_dataset(file='dataset_feature_vector.csv', data_type='processed')\n",
    "train_df, result_train_df = generate_train_dataset_lowerbound(dataset)\n",
    "test_df, result_test_df = generate_test_dataset(dataset)\n"
   ]
  },
  {
   "cell_type": "code",
   "execution_count": 5,
   "metadata": {},
   "outputs": [
    {
     "name": "stdout",
     "output_type": "stream",
     "text": [
      "<class 'pandas.core.frame.DataFrame'>\n",
      "Int64Index: 4023 entries, 3871 to 7893\n",
      "Data columns (total 24 columns):\n",
      "Yesterday_Open      4023 non-null float64\n",
      "Yesterday_Close     4023 non-null float64\n",
      "Yesterday_Volume    4023 non-null float64\n",
      "Yesterday_Low       4023 non-null float64\n",
      "Yesterday_High      4023 non-null float64\n",
      "Open                4023 non-null float64\n",
      "High                4023 non-null float64\n",
      "Low                 4023 non-null float64\n",
      "Close               4023 non-null float64\n",
      "Volume              4023 non-null float64\n",
      "OpenInt             4023 non-null float64\n",
      "Average_High_Low    4023 non-null float64\n",
      "Average_Day         4023 non-null float64\n",
      "Diff_Close_Open     4023 non-null float64\n",
      "Diff_Today_Open     4023 non-null float64\n",
      "Diff_Today_Close    4023 non-null float64\n",
      "Diff_Today_High     4023 non-null float64\n",
      "Diff_Today_Low      4023 non-null float64\n",
      "Month               4023 non-null int64\n",
      "Year                4023 non-null int64\n",
      "Day                 4023 non-null int64\n",
      "Yesterday_Month     4023 non-null int64\n",
      "Yesterday_Year      4023 non-null int64\n",
      "Yesterday_Day       4023 non-null int64\n",
      "dtypes: float64(18), int64(6)\n",
      "memory usage: 785.7 KB\n"
     ]
    }
   ],
   "source": [
    "train_df.info()"
   ]
  },
  {
   "cell_type": "code",
   "execution_count": 6,
   "metadata": {},
   "outputs": [
    {
     "name": "stdout",
     "output_type": "stream",
     "text": [
      "(4023,)\n",
      "(4023, 24)\n",
      "(469,)\n",
      "(469, 24)\n"
     ]
    }
   ],
   "source": [
    "X_train = train_df.values.astype('float')\n",
    "y_train= result_train_df['Label'].ravel()\n",
    "\n",
    "X_test = test_df.values.astype('float')\n",
    "y_test = result_test_df['Label'].ravel()\n",
    "\n",
    "print (y_train.shape)\n",
    "print (X_train.shape)\n",
    "print (y_test.shape)\n",
    "print (X_test.shape)"
   ]
  },
  {
   "cell_type": "code",
   "execution_count": 7,
   "metadata": {},
   "outputs": [
    {
     "name": "stdout",
     "output_type": "stream",
     "text": [
      "mean amount of increases in train : 0.525\n",
      "total amount of increases in train : 2113\n",
      "total amount of regiters in train : 4023\n"
     ]
    }
   ],
   "source": [
    "## results descriptions \n",
    "print ('mean amount of increases in train : {0:.3f}'.format(np.mean(y_train)))\n",
    "print ('total amount of increases in train : {}'.format(np.sum(y_train)))\n",
    "print ('total amount of regiters in train : {}'.format(y_train.size))"
   ]
  },
  {
   "cell_type": "markdown",
   "metadata": {},
   "source": [
    "### Build Baseline model"
   ]
  },
  {
   "cell_type": "code",
   "execution_count": 8,
   "metadata": {},
   "outputs": [],
   "source": [
    "from sklearn.dummy import DummyClassifier\n",
    "from sklearn.metrics import accuracy_score, confusion_matrix, precision_score, recall_score\n",
    "from sklearn.utils.multiclass import unique_labels"
   ]
  },
  {
   "cell_type": "code",
   "execution_count": 9,
   "metadata": {},
   "outputs": [],
   "source": [
    "linear_model = DummyClassifier(strategy='most_frequent', random_state=0)"
   ]
  },
  {
   "cell_type": "code",
   "execution_count": 10,
   "metadata": {},
   "outputs": [
    {
     "data": {
      "text/plain": [
       "DummyClassifier(constant=None, random_state=0, strategy='most_frequent')"
      ]
     },
     "execution_count": 10,
     "metadata": {},
     "output_type": "execute_result"
    }
   ],
   "source": [
    "linear_model.fit(X_train, y_train)"
   ]
  },
  {
   "cell_type": "code",
   "execution_count": 11,
   "metadata": {},
   "outputs": [
    {
     "name": "stdout",
     "output_type": "stream",
     "text": [
      "Mean amount of increases in train : 0.525.\n",
      "This means that the most frequent category is for the stock value to go up :)\n",
      "\n",
      "\n",
      "Score for baseline model : 0.58\n",
      "Baseline model predicts 58.00% time it the stock price goes down\n",
      "Accuracy for baseline model : 0.58\n",
      "Precision for baseline model : 0.58\n",
      "Recall for baseline model : 1.00\n",
      "Confusion matrix for baseline model: \n",
      " [[  0 197]\n",
      " [  0 272]]\n"
     ]
    }
   ],
   "source": [
    "print ('Mean amount of increases in train : {0:.3f}.'.format(np.mean(y_train)))\n",
    "print ('This means that the most frequent category is for the stock value to go up :)\\n\\n')\n",
    "result = linear_model.score(X_test, y_test)\n",
    "print ('Score for baseline model : {0:.2f}'.format(result))\n",
    "print ('Baseline model predicts {0:.2f}% time it the stock price goes down'.format(result*100))\n",
    "# accuracy score\n",
    "print ('Accuracy for baseline model : {0:.2f}'.format(accuracy_score(y_test, linear_model.predict(X_test))))\n",
    "# precision and recall scores\n",
    "import warnings\n",
    "warnings.filterwarnings('ignore')\n",
    "print ('Precision for baseline model : {0:.2f}'.format(precision_score(y_test, linear_model.predict(X_test))))\n",
    "print ('Recall for baseline model : {0:.2f}'.format(recall_score(y_test, linear_model.predict(X_test))))\n",
    "cm = confusion_matrix(y_test, linear_model.predict(X_test))\n",
    "print( 'Confusion matrix for baseline model: \\n {0}'.format(cm))"
   ]
  },
  {
   "cell_type": "code",
   "execution_count": 12,
   "metadata": {},
   "outputs": [
    {
     "data": {
      "text/plain": [
       "<Figure size 400x400 with 2 Axes>"
      ]
     },
     "metadata": {},
     "output_type": "display_data"
    }
   ],
   "source": [
    "import matplotlib.pyplot as plt     \n",
    "from matplotlib.pyplot import figure\n",
    "\n",
    "labels = [0, 1]\n",
    "cm = confusion_matrix(y_test, linear_model.predict(X_test), labels)\n",
    "fig = figure(num=None, figsize=(5, 5), dpi=80, facecolor='w', edgecolor='k')\n",
    "ax = plt.gca()\n",
    "cax = ax.matshow(cm)\n",
    "plt.title('Confusion matrix using linear classifier')\n",
    "fig.colorbar(cax)\n",
    "ax.set_xticklabels(['']+ labels)\n",
    "ax.set_yticklabels(['']+labels)\n",
    "plt.xlabel('Predicted')\n",
    "plt.ylabel('Actual value')\n",
    "plt.show()"
   ]
  },
  {
   "cell_type": "code",
   "execution_count": 13,
   "metadata": {},
   "outputs": [
    {
     "name": "stdout",
     "output_type": "stream",
     "text": [
      "Metrics for model: Linear model\n",
      "\tScore: 0.58\n",
      "\tAccuracy: 0.58\n",
      "\tPrecision: 0.58\n",
      "\tRecall: 1.00\n",
      "\tPredicts 58.00% time it the stock price goes up\n",
      "\tConfusion matrix: \n",
      "\t[  0 197] \n",
      "\t[  0 272]\n"
     ]
    }
   ],
   "source": [
    "get_model_metrics(linear_model, y_test, X_test, 'Linear model')"
   ]
  },
  {
   "cell_type": "code",
   "execution_count": 14,
   "metadata": {},
   "outputs": [
    {
     "data": {
      "image/png": "[encoded data removed]",
      "text/plain": [
       "<Figure size 1200x480 with 2 Axes>"
      ]
     },
     "metadata": {},
     "output_type": "display_data"
    }
   ],
   "source": [
    "compare_prediction_visual(create_predictions_dataset(test_df, linear_model,X_test), result_test_df, 'Linear')"
   ]
  },
  {
   "cell_type": "markdown",
   "metadata": {},
   "source": [
    "### Logistic Regression Model"
   ]
  },
  {
   "cell_type": "code",
   "execution_count": 15,
   "metadata": {},
   "outputs": [],
   "source": [
    "# import function\n",
    "from sklearn.linear_model import LogisticRegression"
   ]
  },
  {
   "cell_type": "code",
   "execution_count": 16,
   "metadata": {},
   "outputs": [
    {
     "name": "stdout",
     "output_type": "stream",
     "text": [
      "Metrics for model: Logistic model\n",
      "\tScore: 0.58\n",
      "\tAccuracy: 0.58\n",
      "\tPrecision: 0.58\n",
      "\tRecall: 1.00\n",
      "\tPredicts 57.78% time it the stock price goes up\n",
      "\tConfusion matrix: \n",
      "\t[  0 197] \n",
      "\t[  1 271]\n"
     ]
    },
    {
     "data": {
      "image/png": "[encoded data removed]",
      "text/plain": [
       "<Figure size 1200x480 with 2 Axes>"
      ]
     },
     "metadata": {},
     "output_type": "display_data"
    }
   ],
   "source": [
    "# create model\n",
    "logistic_model = LogisticRegression(random_state=0, solver='liblinear')\n",
    "# train model\n",
    "logistic_model.fit(X_train,y_train)\n",
    "get_model_metrics(logistic_model, y_test, X_test, 'Logistic model')\n",
    "compare_prediction_visual(create_predictions_dataset(test_df, logistic_model,X_test), result_test_df, 'Logistic')"
   ]
  },
  {
   "cell_type": "markdown",
   "metadata": {},
   "source": [
    "# Hyperparam optimization"
   ]
  },
  {
   "cell_type": "code",
   "execution_count": 17,
   "metadata": {},
   "outputs": [],
   "source": [
    "from sklearn.model_selection import GridSearchCV\n",
    "from sklearn.utils.testing import ignore_warnings\n",
    "from sklearn.exceptions import ConvergenceWarning"
   ]
  },
  {
   "cell_type": "code",
   "execution_count": 18,
   "metadata": {},
   "outputs": [
    {
     "name": "stdout",
     "output_type": "stream",
     "text": [
      "Best parameters for logistic model grid {'C': 50.0, 'class_weight': 'balanced', 'max_iter': 100}\n",
      "Best score : 0.48\n",
      "Score for logistic regression - version 2 : 0.47\n",
      "Metrics for model: Logistic model grid\n",
      "\tScore: 0.47\n",
      "\tAccuracy: 0.47\n",
      "\tPrecision: 0.57\n",
      "\tRecall: 0.35\n",
      "\tPredicts 46.91% time it the stock price goes up\n",
      "\tConfusion matrix: \n",
      "\t[124  73] \n",
      "\t[176  96]\n"
     ]
    },
    {
     "data": {
      "image/png": "[encoded data removed]",
      "text/plain": [
       "<Figure size 1200x480 with 2 Axes>"
      ]
     },
     "metadata": {},
     "output_type": "display_data"
    }
   ],
   "source": [
    "#This takes several minutes\n",
    "parameters = {'C':[50.0],'class_weight' : ['balanced'], 'max_iter' : [100]}\n",
    "logistic_model_grid = GridSearchCV(logistic_model, param_grid=parameters, cv=3)\n",
    "\n",
    "with ignore_warnings(category=ConvergenceWarning):\n",
    "    logistic_model_grid.fit(X_train, y_train)\n",
    "    \n",
    "print ('Best parameters for logistic model grid {}'.format(logistic_model_grid.best_params_))\n",
    "\n",
    "print ('Best score : {0:.2f}'.format(logistic_model_grid.best_score_))\n",
    "print ('Score for logistic regression - version 2 : {0:.2f}'.format(logistic_model_grid.score(X_test, y_test)))\n",
    "\n",
    "get_model_metrics(logistic_model_grid, y_test, X_test, 'Logistic model grid')\n",
    "compare_prediction_visual(create_predictions_dataset(test_df, logistic_model_grid, X_test), result_test_df, 'Logistic Grid')"
   ]
  },
  {
   "cell_type": "markdown",
   "metadata": {},
   "source": [
    "# feature standardization"
   ]
  },
  {
   "cell_type": "code",
   "execution_count": 19,
   "metadata": {},
   "outputs": [],
   "source": [
    "from sklearn.preprocessing import MinMaxScaler, StandardScaler"
   ]
  },
  {
   "cell_type": "code",
   "execution_count": 20,
   "metadata": {},
   "outputs": [
    {
     "data": {
      "text/plain": [
       "(-0.861998280708464, 2.775096881210145)"
      ]
     },
     "execution_count": 20,
     "metadata": {},
     "output_type": "execute_result"
    }
   ],
   "source": [
    "# feature standardization\n",
    "scaler = StandardScaler()\n",
    "X_train_scaled = scaler.fit_transform(X_train)\n",
    "X_test_scaled = scaler.transform(X_test)\n",
    "X_train_scaled[:,0].min(),X_train_scaled[:,0].max()"
   ]
  },
  {
   "cell_type": "code",
   "execution_count": 21,
   "metadata": {},
   "outputs": [
    {
     "name": "stdout",
     "output_type": "stream",
     "text": [
      "Best parameters for logistic model grid {'C': 50.0, 'class_weight': 'balanced', 'max_iter': 100}\n",
      "Best score : 0.86\n",
      "Score for logistic regression - version 2 : 0.83\n",
      "Metrics for model: Logistic model grid\n",
      "\tScore: 0.83\n",
      "\tAccuracy: 0.83\n",
      "\tPrecision: 0.86\n",
      "\tRecall: 0.85\n",
      "\tPredicts 83.16% time it the stock price goes up\n",
      "\tConfusion matrix: \n",
      "\t[160  37] \n",
      "\t[ 42 230]\n"
     ]
    },
    {
     "data": {
      "image/png": "[encoded data removed]",
      "text/plain": [
       "<Figure size 1200x480 with 2 Axes>"
      ]
     },
     "metadata": {},
     "output_type": "display_data"
    }
   ],
   "source": [
    "parameters = {'C':[50.0],'class_weight' : ['balanced'], 'max_iter' : [100]}\n",
    "logistic_model_grid = GridSearchCV(logistic_model, param_grid=parameters, cv=3)\n",
    "\n",
    "with ignore_warnings(category=ConvergenceWarning):\n",
    "    logistic_model_grid.fit(X_train_scaled, y_train)\n",
    "    \n",
    "print ('Best parameters for logistic model grid {}'.format(logistic_model_grid.best_params_))\n",
    "\n",
    "print ('Best score : {0:.2f}'.format(logistic_model_grid.best_score_))\n",
    "print ('Score for logistic regression - version 2 : {0:.2f}'.format(logistic_model_grid.score(X_test_scaled, y_test)))\n",
    "\n",
    "get_model_metrics(logistic_model_grid, y_test, X_test_scaled, 'Logistic model grid')\n",
    "compare_prediction_visual(create_predictions_dataset(test_df, logistic_model_grid, X_test_scaled), result_test_df, 'Logistic Grid')"
   ]
  },
  {
   "cell_type": "markdown",
   "metadata": {},
   "source": [
    "# Random Forest Model"
   ]
  },
  {
   "cell_type": "code",
   "execution_count": 22,
   "metadata": {},
   "outputs": [],
   "source": [
    "from sklearn.ensemble import RandomForestClassifier"
   ]
  },
  {
   "cell_type": "code",
   "execution_count": 23,
   "metadata": {},
   "outputs": [
    {
     "name": "stdout",
     "output_type": "stream",
     "text": [
      "Using no scaled dataset\n",
      "Metrics for model: Random forest model\n",
      "\tScore: 0.71\n",
      "\tAccuracy: 0.71\n",
      "\tPrecision: 0.85\n",
      "\tRecall: 0.60\n",
      "\tPredicts 70.58% time it the stock price goes up\n",
      "\tConfusion matrix: \n",
      "\t[169  28] \n",
      "\t[110 162]\n"
     ]
    },
    {
     "data": {
      "image/png": "[encoded data removed]",
      "text/plain": [
       "<Figure size 1200x480 with 2 Axes>"
      ]
     },
     "metadata": {},
     "output_type": "display_data"
    }
   ],
   "source": [
    "print(\"Using no scaled dataset\")\n",
    "# create model\n",
    "random_forest = RandomForestClassifier(random_state=0,n_estimators=10)\n",
    "# train model\n",
    "random_forest.fit(X_train, y_train)\n",
    "# evaluate model\n",
    "get_model_metrics(random_forest, y_test, X_test, 'Random forest model')\n",
    "compare_prediction_visual(create_predictions_dataset(test_df, random_forest,X_test), \n",
    "                          result_test_df, 'Random forest')\n"
   ]
  },
  {
   "cell_type": "code",
   "execution_count": 24,
   "metadata": {},
   "outputs": [
    {
     "name": "stdout",
     "output_type": "stream",
     "text": [
      "Using scaled dataset\n",
      "Metrics for model: Random forest model - Scaled\n",
      "\tScore: 0.70\n",
      "\tAccuracy: 0.70\n",
      "\tPrecision: 0.85\n",
      "\tRecall: 0.59\n",
      "\tPredicts 70.36% time it the stock price goes up\n",
      "\tConfusion matrix: \n",
      "\t[169  28] \n",
      "\t[111 161]\n"
     ]
    },
    {
     "data": {
      "image/png": "[encoded data removed]",
      "text/plain": [
       "<Figure size 1200x480 with 2 Axes>"
      ]
     },
     "metadata": {},
     "output_type": "display_data"
    }
   ],
   "source": [
    "print(\"Using scaled dataset\")\n",
    "# create model\n",
    "random_forest_scaled = RandomForestClassifier(random_state=0,n_estimators=10)\n",
    "# train model\n",
    "random_forest_scaled.fit(X_train_scaled, y_train)\n",
    "# evaluate model\n",
    "get_model_metrics(random_forest_scaled, y_test, X_test_scaled, 'Random forest model - Scaled')\n",
    "compare_prediction_visual(create_predictions_dataset(test_df, random_forest_scaled, X_test_scaled), \n",
    "                          result_test_df, 'RandomForestModel-Scaled')\n"
   ]
  },
  {
   "cell_type": "markdown",
   "metadata": {},
   "source": [
    "# Hyperparameters optimization"
   ]
  },
  {
   "cell_type": "code",
   "execution_count": 25,
   "metadata": {},
   "outputs": [
    {
     "name": "stdout",
     "output_type": "stream",
     "text": [
      "Best parameters for random forest model grid {'max_features': 'auto', 'min_samples_leaf': 50, 'n_estimators': 100}\n",
      "Score for random forest: 0.84\n",
      "Metrics for model: Random Forest grid search\n",
      "\tScore: 0.84\n",
      "\tAccuracy: 0.84\n",
      "\tPrecision: 0.86\n",
      "\tRecall: 0.86\n",
      "\tPredicts 83.58% time it the stock price goes up\n",
      "\tConfusion matrix: \n",
      "\t[159  38] \n",
      "\t[ 39 233]\n"
     ]
    },
    {
     "data": {
      "image/png": "[encoded data removed]",
      "text/plain": [
       "<Figure size 1200x480 with 2 Axes>"
      ]
     },
     "metadata": {},
     "output_type": "display_data"
    }
   ],
   "source": [
    "parameters = {'n_estimators':[50, 100, 200,1000], \n",
    "              'min_samples_leaf':[1, 5,10,50],\n",
    "              'max_features' : ('auto','sqrt','log2'),\n",
    "               }\n",
    "rf = RandomForestClassifier(random_state=0, oob_score=True)\n",
    "rf_grid = GridSearchCV(rf, parameters, cv=5)\n",
    "\n",
    "with ignore_warnings(category=ConvergenceWarning):\n",
    "    rf_grid.fit(X_train, y_train)\n",
    "    \n",
    "print ('Best parameters for random forest model grid {}'.format(rf_grid.best_params_))\n",
    "\n",
    "print ('Score for random forest: {0:.2f}'.format(rf_grid.score(X_test, y_test)))\n",
    "\n",
    "get_model_metrics(rf_grid, y_test, X_test, 'Random Forest grid search')\n",
    "compare_prediction_visual(create_predictions_dataset(test_df, rf_grid, X_test), result_test_df, 'RandomForestGrid')"
   ]
  },
  {
   "cell_type": "markdown",
   "metadata": {},
   "source": [
    "# Light GBM"
   ]
  },
  {
   "cell_type": "code",
   "execution_count": 26,
   "metadata": {},
   "outputs": [],
   "source": [
    "# !pip install lightgbm\n",
    "# !brew install libomp\n",
    "# !brew upgrade libomp"
   ]
  },
  {
   "cell_type": "code",
   "execution_count": 27,
   "metadata": {},
   "outputs": [],
   "source": [
    "from lightgbm import LGBMClassifier\n",
    "\n",
    "from sklearn.metrics import mean_squared_error\n",
    "from sklearn.model_selection import GridSearchCV"
   ]
  },
  {
   "cell_type": "markdown",
   "metadata": {},
   "source": [
    "# Generate scripts to run on google cloud"
   ]
  },
  {
   "cell_type": "code",
   "execution_count": 28,
   "metadata": {},
   "outputs": [
    {
     "name": "stdout",
     "output_type": "stream",
     "text": [
      "../src/models/logistic_model.py\n",
      "../src/models/prediction_utils.py\n"
     ]
    }
   ],
   "source": [
    "logistic_model_script_file = os.path.join(os.path.pardir,'src','models','logistic_model.py')\n",
    "print(logistic_model_script_file)\n",
    "prediction_utils_script_file = os.path.join(os.path.pardir,'src','models','prediction_utils.py')\n",
    "print(prediction_utils_script_file)\n"
   ]
  },
  {
   "cell_type": "code",
   "execution_count": 29,
   "metadata": {},
   "outputs": [
    {
     "name": "stdout",
     "output_type": "stream",
     "text": [
      "Overwriting ../src/models/logistic_model.py\n"
     ]
    }
   ],
   "source": [
    "%%writefile $logistic_model_script_file\n",
    "import pandas as pd\n",
    "import sklearn\n",
    "from sklearn.linear_model import LogisticRegression\n",
    "from sklearn.model_selection import GridSearchCV\n",
    "from sklearn.utils.testing import ignore_warnings\n",
    "from sklearn.exceptions import ConvergenceWarning\n",
    "\n",
    "import src.models.prediction_utils as utils\n",
    "\n",
    "X_train, y_train, result_train_df = utils.create_train_matrix('dataset_feature_vector.csv')\n",
    "X_test, y_test, result_test_df = utils.create_test_matrix('dataset_feature_vector.csv')\n",
    "\n",
    "#Create model/estimator\n",
    "logistic_model = LogisticRegression(random_state=0, solver='liblinear')\n",
    "\n",
    "#This takes several minutes\n",
    "parameters = {'C':[1.0, 10.0, 50.0, 100.0, 1000.0], 'penalty' : ['l1','l2'],'class_weight' : ['balanced',None], 'solver' : ['liblinear','saga'], 'max_iter' : [100,1000,10000]}\n",
    "logistic_model_grid = GridSearchCV(logistic_model, param_grid=parameters, cv=3)\n",
    "#Train every posible variation of the model\n",
    "with ignore_warnings(category=ConvergenceWarning):\n",
    "    logistic_model_grid.fit(X_train, y_train)\n",
    "\n",
    "#Get the best    \n",
    "print ('Best parameters for logistic model grid {}'.format(logistic_model_grid.best_params_))\n",
    "print ('Best score : {0:.2f}'.format(logistic_model_grid.best_score_))\n",
    "print ('Score for logistic regression - version 2 : {0:.2f}'.format(logistic_model_grid.score(X_test, y_test)))\n",
    "\n",
    "utils.get_model_metrics(logistic_model_grid, y_test, X_test, 'Logistic model grid')\n",
    "utils.compare_prediction_visual(utils.create_predictions_dataset(result_test_df, logistic_model_grid, X_test), result_test_df, 'Logistic Grid')\n",
    "\n",
    "\n"
   ]
  },
  {
   "cell_type": "code",
   "execution_count": 30,
   "metadata": {},
   "outputs": [
    {
     "name": "stdout",
     "output_type": "stream",
     "text": [
      "Overwriting ../src/models/prediction_utils.py\n"
     ]
    }
   ],
   "source": [
    "%%writefile $prediction_utils_script_file\n",
    "import pandas as pd\n",
    "import warnings\n",
    "import sklearn\n",
    "import datetime\n",
    "import matplotlib.pyplot as plt     \n",
    "from matplotlib.pyplot import figure\n",
    "from sklearn.dummy import DummyClassifier\n",
    "from sklearn.metrics import accuracy_score, confusion_matrix, precision_score, recall_score\n",
    "from sklearn.utils.multiclass import unique_labels\n",
    "\n",
    "import src.data.dataset_utils as utils\n",
    "import src.data.processed_data as process\n",
    "\n",
    "def create_predictions_dataset(test_df, model, X_test):\n",
    "    predictions = model.predict(X_test)\n",
    "    df_predicted = pd.DataFrame({ 'Label' : predictions, 'Index' : test_df.index} )\n",
    "    return df_predicted\n",
    "\n",
    "\n",
    "def compare_prediction_visual(df_predicted, df_real,model_name='Unknown model'):\n",
    "    fig = figure(num=None, figsize=(15, 4), dpi=80, facecolor='w', edgecolor='k')\n",
    "    plt.subplot(121)\n",
    "    title = model_name + ' ' +  'classification results'\n",
    "    df_predicted.plot(kind='scatter', x='Index',y='Label',ax = plt.gca(),title=title)\n",
    "    plt.subplot(122)\n",
    "    df_real.plot(kind='scatter', x='Index',y='Label',ax = plt.gca() ,title='Real classification results')\n",
    "    today = datetime.date.today()\n",
    "    plt.savefig('{0}{1}.png'.format(model_name,today))\n",
    "\n",
    "\n",
    "def get_model_metrics(model, y_test, X_test, model_name='Unknown model'):\n",
    "    result = model.score(X_test, y_test)\n",
    "    print ('Metrics for model: {}'.format(model_name))\n",
    "    print ('\\tScore: {1:.2f}'.format(model_name, result))\n",
    "    print ('\\tAccuracy: {0:.2f}'.format(accuracy_score(y_test, model.predict(X_test))))\n",
    "    warnings.filterwarnings('ignore')\n",
    "    print ('\\tPrecision: {0:.2f}'.format(precision_score(y_test, model.predict(X_test))))\n",
    "    print ('\\tRecall: {0:.2f}'.format(recall_score(y_test, model.predict(X_test))))\n",
    "    print ('\\tPredicts {0:.2f}% time it the stock price goes up'.format(result*100, model_name))\n",
    "    cm = confusion_matrix(y_test, model.predict(X_test))\n",
    "    print( '\\tConfusion matrix: \\n\\t{0} \\n\\t{1}'.format(cm[0], cm[1]))\n",
    "\n",
    "    \n",
    "def create_train_matrix(file, data_type='processed', predicted_variable='Label'):\n",
    "    dataset = utils.load_dataset('',file, data_type)\n",
    "    train_df, result_train_df = process.generate_train_dataset_lowerbound(dataset)\n",
    "    X_train = train_df.values.astype('float')\n",
    "    y_train = result_train_df[predicted_variable].ravel()\n",
    "    print (y_train.shape)\n",
    "    print (X_train.shape)\n",
    "    \n",
    "    return X_train, y_train, result_train_df\n",
    "\n",
    "\n",
    "def create_test_matrix(file, data_type='processed', predicted_variable='Label'):\n",
    "    dataset = utils.load_dataset('',file, data_type)\n",
    "    test_df, result_test_df = process.generate_test_dataset(dataset)\n",
    "    X_test = test_df.values.astype('float')\n",
    "    y_test = result_test_df['Label'].ravel()\n",
    "    print (y_test.shape)\n",
    "    print (X_test.shape)\n",
    "    \n",
    "    return X_test, y_test, result_test_df\n",
    "\n",
    "\n",
    "    "
   ]
  },
  {
   "cell_type": "code",
   "execution_count": null,
   "metadata": {},
   "outputs": [],
   "source": []
  },
  {
   "cell_type": "code",
   "execution_count": null,
   "metadata": {},
   "outputs": [],
   "source": []
  }
 ],
 "metadata": {
  "kernelspec": {
   "display_name": "Python 3",
   "language": "python",
   "name": "python3"
  },
  "language_info": {
   "codemirror_mode": {
    "name": "ipython",
    "version": 3
   },
   "file_extension": ".py",
   "mimetype": "text/x-python",
   "name": "python",
   "nbconvert_exporter": "python",
   "pygments_lexer": "ipython3",
   "version": "3.7.3"
  }
 },
 "nbformat": 4,
 "nbformat_minor": 2
}
